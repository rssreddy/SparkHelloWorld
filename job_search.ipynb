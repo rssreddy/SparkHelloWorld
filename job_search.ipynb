{
 "cells": [
  {
   "cell_type": "code",
   "execution_count": 23,
   "id": "a4cb461c-3f46-48b0-b3bf-33564d01557c",
   "metadata": {},
   "outputs": [],
   "source": [
    "from selenium import webdriver\n",
    "from selenium.webdriver.common.by import By\n",
    "from selenium.webdriver.common.keys import Keys\n",
    "from bs4 import BeautifulSoup\n",
    "import pandas as pd\n",
    "import time"
   ]
  },
  {
   "cell_type": "code",
   "execution_count": 24,
   "id": "e571d3f7-6c51-4a24-9d2f-95678453ff02",
   "metadata": {},
   "outputs": [],
   "source": [
    "query = 'Data Scientist'\n",
    "location = 'India'"
   ]
  },
  {
   "cell_type": "code",
   "execution_count": 25,
   "id": "caea3fac-ee84-4172-acb5-315129dc392c",
   "metadata": {},
   "outputs": [],
   "source": [
    "chromedriver_path = '/usr/local/bin/chromedriver'"
   ]
  },
  {
   "cell_type": "code",
   "execution_count": 26,
   "id": "9dd5b01b-6546-45c0-89a4-3f588d463dc8",
   "metadata": {},
   "outputs": [
    {
     "name": "stderr",
     "output_type": "stream",
     "text": [
      "/var/folders/8k/httyvyqd5rs7pjslb_dwjqc00000gn/T/ipykernel_2273/2084790588.py:4: DeprecationWarning: executable_path has been deprecated, please pass in a Service object\n",
      "  driver = webdriver.Chrome(options=options, executable_path=chromedriver_path)\n"
     ]
    }
   ],
   "source": [
    "options = webdriver.ChromeOptions()\n",
    "options.add_argument(\"--start-maximized\")\n",
    "\n",
    "driver = webdriver.Chrome(options=options, executable_path=chromedriver_path)"
   ]
  },
  {
   "cell_type": "code",
   "execution_count": 29,
   "id": "2cf0adfd-fb40-4502-b1fa-4a535b7b77da",
   "metadata": {},
   "outputs": [],
   "source": [
    "driver.implicitly_wait(10)"
   ]
  },
  {
   "cell_type": "code",
   "execution_count": 30,
   "id": "b104341d-0f49-4055-b193-a2b39cb7bd40",
   "metadata": {},
   "outputs": [],
   "source": [
    "email = 'mail@gmail.com'\n",
    "password = ''"
   ]
  },
  {
   "cell_type": "code",
   "execution_count": 31,
   "id": "51e8f9a6-0eb7-4f33-90bd-a23d91e9ce69",
   "metadata": {},
   "outputs": [],
   "source": [
    "driver.get('https://www.linkedin.com/login')\n",
    "\n",
    "\n",
    "email_input = driver.find_element(By.ID, 'username')\n",
    "password_input = driver.find_element(By.ID, 'password')\n",
    "email_input.send_keys(email)\n",
    "password_input.send_keys(password)\n",
    "password_input.send_keys(Keys.ENTER)"
   ]
  },
  {
   "cell_type": "code",
   "execution_count": 10,
   "id": "a766ee8e-1ec8-4dec-af85-3ff8219e8678",
   "metadata": {},
   "outputs": [],
   "source": [
    "time.sleep(30)"
   ]
  },
  {
   "cell_type": "code",
   "execution_count": 39,
   "id": "7f6cbad7-29ca-4a2b-a56c-be91f3c8e3f9",
   "metadata": {},
   "outputs": [],
   "source": [
    "for page_num in range(1, 4):\n",
    "    url = f'https://www.linkedin.com/jobs/search/?keywords={query}&location={location}&start={25 * (page_num - 1)}'\n",
    "    driver.get(url)\n",
    "    last_height = driver.execute_script('return document.body.scrollHeight')\n",
    "    while True:\n",
    "        driver.execute_script('window.scrollTo(0, document.body.scrollHeight);')\n",
    "        new_height = driver.execute_script('return document.body.scrollHeight')\n",
    "        if new_height == last_height:\n",
    "            break\n",
    "        last_height = new_height\n",
    "    \n",
    "    time.sleep(20)  # Wait for 20 seconds\n",
    "    soup = BeautifulSoup(driver.page_source, 'html.parser')\n",
    "    job_postings = soup.find_all('li', {'class': 'jobs-search-results__list-item'})\n",
    "\n",
    "    # Extract relevant information from each job posting and store it in a list of dictionaries\n",
    "    data = []\n",
    "    for job_posting in job_postings:\n",
    "        try:\n",
    "            job_title = job_posting.find('a', class_='job-card-list__title').get_text().strip()\n",
    "        except AttributeError:\n",
    "            job_title = None\n",
    "    \n",
    "        try:\n",
    "            company_name = job_posting.find('a', class_='job-card-container__link').get_text().strip()\n",
    "        except AttributeError:\n",
    "            company_name = None\n",
    "    \n",
    "        try:\n",
    "            location = job_posting.find('li', class_='job-card-container__metadata-item').get_text().strip()\n",
    "        except AttributeError:\n",
    "            location = None\n",
    "\n",
    "        \n",
    "        try:\n",
    "            job_type = job_posting.find('span', class_='job-card-list__attribute-job-type').get_text().strip()\n",
    "        except AttributeError:\n",
    "            job_type = None\n",
    "    \n",
    "        try:\n",
    "            skills_element = job_posting.find('div', class_='job-card-list__skills-description')\n",
    "            skills = [skill.get_text().strip() for skill in skills_element.find_all('span', class_='job-card-skills__skill')]\n",
    "        except AttributeError:\n",
    "            skills = None\n",
    "\n",
    "\n",
    "        # Add to DataFrame\n",
    "        data.append({\n",
    "            'Job Title': job_title,\n",
    "            'Company Name': company_name,\n",
    "            'Location': location,\n",
    "            'Job Type': job_type,\n",
    "            'Skills': skills\n",
    "        })\n",
    "\n",
    "        \n",
    "    \n",
    "      \n",
    "    df = pd.DataFrame(data)\n",
    "    df.to_csv(f'linkedin_jobs_{page_num}.csv', index=False)\n",
    "\n"
   ]
  },
  {
   "cell_type": "code",
   "execution_count": 20,
   "id": "8e7cc384-464b-4ad9-a56e-aeac81663c70",
   "metadata": {},
   "outputs": [
    {
     "data": {
      "text/plain": [
       "<li class=\"ember-view jobs-search-results__list-item occludable-update p0 relative scaffold-layout__list-item\" data-occludable-job-id=\"3819973467\" id=\"ember420\">\n",
       "<div>\n",
       "<div class=\"job-card-container relative job-card-list job-card-container--clickable job-card-list--underline-title-on-hover jobs-search-two-pane__job-card-container--viewport-tracking-24\" data-job-id=\"3819973467\" data-view-name=\"job-card\">\n",
       "<div class=\"job-card-list__entity-lockup artdeco-entity-lockup artdeco-entity-lockup--size-4 ember-view\" id=\"ember859\">\n",
       "<div class=\"mr1 job-card-list__logo artdeco-entity-lockup__image artdeco-entity-lockup__image--type-square ember-view\" id=\"ember860\" type=\"square\">\n",
       "<div class=\"ivm-image-view-model job-card-list__logo-ivm\">\n",
       "<div class=\"ivm-view-attr__img-wrapper display-flex\">\n",
       "<!-- --> <img alt=\"Ericsson logo\" class=\"ivm-view-attr__img--centered EntityPhoto-square-4 evi-image lazy-image ember-view\" height=\"56\" id=\"ember861\" loading=\"lazy\" src=\"https://media.licdn.com/dms/image/C4E0BAQGm9tH6lKJ-Gg/company-logo_100_100/0/1632729373904/ericsson_logo?e=1716422400&amp;v=beta&amp;t=In1cWWPFYi8EM_CneJM_1V_UfBmQU62aAA-JYXCshzw\" width=\"56\"/>\n",
       "</div>\n",
       "</div>\n",
       "</div>\n",
       "<div class=\"flex-grow-1 artdeco-entity-lockup__content ember-view\" id=\"ember862\">\n",
       "<div class=\"full-width artdeco-entity-lockup__title ember-view\" id=\"ember863\">\n",
       "<a aria-label=\"Data Scientist\" class=\"disabled ember-view job-card-container__link job-card-list__title\" data-control-id=\"wSCcxdWAVfZhWduoD3aChg==\" href=\"/jobs/view/3819973467/?eBP=CwEAAAGNt2f99RmnFL47WOQ_S87VQr5TzM0P-RzsvV4o_kIQZFadUB5b7jkMvRmwV8PtyT5IJFz7r41IhpH9JSLDRCWgZYpC8lRNjcRincbRUyMsAzUsy8tAo8hRBZs_StjyAqLuSQXV9LppqJHcL1SxAAzh-Wkcy3B2EFyjAiC4r4SXn1D5AdI7wWqBewfDpN9E09BodKdXPGso7uqf8SkGD1HQ3X5X-K5prbcSXktugQ18RrplHL4uLXRNcJEo8GstmnAXEiWU6o8Qf-oTS6qu1RnDnR8y0JZa-U8fiKSNELDM7NOPgdSBbyrU-n8opiKObreFRpGMy974HPMUfoMTlD6-rzdtOC0uHIofdrrh0elGYGDnLD0&amp;refId=ZSpdmXm2YesYix5fbWSQ9A%3D%3D&amp;trackingId=wSCcxdWAVfZhWduoD3aChg%3D%3D&amp;trk=flagship3_search_srp_jobs\" id=\"ember864\" tabindex=\"0\">\n",
       "<strong><!-- -->Data Scientist<!-- --></strong>\n",
       "</a>\n",
       "</div>\n",
       "<div class=\"artdeco-entity-lockup__subtitle ember-view\" id=\"ember865\">\n",
       "<span class=\"job-card-container__primary-description\">\n",
       "                Ericsson\n",
       "              </span>\n",
       "</div>\n",
       "<div class=\"artdeco-entity-lockup__caption ember-view\" id=\"ember866\">\n",
       "<ul class=\"job-card-container__metadata-wrapper\">\n",
       "<li class=\"job-card-container__metadata-item\">\n",
       "<!-- -->Noida, Uttar Pradesh, India<!-- -->\n",
       "</li>\n",
       "<!-- --> </ul>\n",
       "</div>\n",
       "<!-- --> </div>\n",
       "<div>\n",
       "<button aria-label=\"Dismiss job\" class=\"job-card-container__action artdeco-button artdeco-button--circle artdeco-button--muted artdeco-button--2 artdeco-button--tertiary ember-view\" id=\"ember867\" type=\"button\"> <svg aria-hidden=\"true\" class=\"artdeco-button__icon\" data-supported-dps=\"24x24\" data-test-icon=\"close-medium\" height=\"24\" role=\"none\" viewbox=\"0 0 24 24\" width=\"24\" xmlns=\"http://www.w3.org/2000/svg\">\n",
       "<!-- -->\n",
       "<use height=\"24\" href=\"#close-medium\" width=\"24\"></use>\n",
       "</svg>\n",
       "<span class=\"artdeco-button__text\">\n",
       "</span></button>\n",
       "</div>\n",
       "</div>\n",
       "<div class=\"job-card-list__insight\">\n",
       "<div class=\"display-flex align-items-center t-black--light t-12\">\n",
       "<div class=\"mv1\">\n",
       "<div class=\"ivm-image-view-model\">\n",
       "<div class=\"ivm-view-attr__img-wrapper display-flex\">\n",
       "<!-- --> <img alt=\"\" class=\"ivm-view-attr__img--centered EntityPhoto-circle-1 job-card-container__job-insight-image evi-image lazy-image ember-view\" height=\"32\" id=\"ember868\" loading=\"lazy\" src=\"https://media.licdn.com/dms/image/C5603AQFqMNRCFcsjPw/profile-displayphoto-shrink_100_100/0/1614867345056?e=1713398400&amp;v=beta&amp;t=1W5K4hwh-6XLo8Z7amiJK8HypF9U_C3RQ1BDA6FHBwM\" width=\"32\"/>\n",
       "</div>\n",
       "</div>\n",
       "</div>\n",
       "<div class=\"job-card-container__job-insight-text\">\n",
       "                1 connection works here\n",
       "              </div>\n",
       "</div>\n",
       "</div>\n",
       "<ul class=\"job-card-list__footer-wrapper job-card-container__footer-wrapper flex-shrink-zero display-flex t-sans t-12 t-black--light t-normal t-roman\">\n",
       "<!-- --> <li class=\"job-card-container__footer-item inline-flex align-items-center\">\n",
       "<!-- -->Promoted<!-- -->\n",
       "</li>\n",
       "<!-- --> </ul>\n",
       "<span aria-live=\"polite\" class=\"visually-hidden\">\n",
       "<!-- --> </span>\n",
       "</div>\n",
       "</div>\n",
       "</li>"
      ]
     },
     "execution_count": 20,
     "metadata": {},
     "output_type": "execute_result"
    }
   ],
   "source": [
    "job_posting"
   ]
  },
  {
   "cell_type": "code",
   "execution_count": 22,
   "id": "faa77023-1941-453e-8b48-c34d680f161f",
   "metadata": {},
   "outputs": [
    {
     "name": "stderr",
     "output_type": "stream",
     "text": [
      "/var/folders/8k/httyvyqd5rs7pjslb_dwjqc00000gn/T/ipykernel_2273/1976207968.py:30: DeprecationWarning: executable_path has been deprecated, please pass in a Service object\n",
      "  driver = webdriver.Chrome(options=options, executable_path=chromedriver_path)\n"
     ]
    },
    {
     "ename": "TimeoutException",
     "evalue": "Message: \nStacktrace:\n0   chromedriver                        0x00000001009ee814 chromedriver + 4040724\n1   chromedriver                        0x00000001009e6a18 chromedriver + 4008472\n2   chromedriver                        0x0000000100659870 chromedriver + 284784\n3   chromedriver                        0x000000010069d080 chromedriver + 561280\n4   chromedriver                        0x00000001006d7048 chromedriver + 798792\n5   chromedriver                        0x000000010069174c chromedriver + 513868\n6   chromedriver                        0x0000000100692044 chromedriver + 516164\n7   chromedriver                        0x00000001009b3a3c chromedriver + 3799612\n8   chromedriver                        0x00000001009b7f1c chromedriver + 3817244\n9   chromedriver                        0x000000010099c298 chromedriver + 3703448\n10  chromedriver                        0x00000001009b8a64 chromedriver + 3820132\n11  chromedriver                        0x000000010098f054 chromedriver + 3649620\n12  chromedriver                        0x00000001009d5e74 chromedriver + 3939956\n13  chromedriver                        0x00000001009d5fec chromedriver + 3940332\n14  chromedriver                        0x00000001009e6698 chromedriver + 4007576\n15  libsystem_pthread.dylib             0x000000018a3be034 _pthread_start + 136\n16  libsystem_pthread.dylib             0x000000018a3b8e3c thread_start + 8\n",
     "output_type": "error",
     "traceback": [
      "\u001b[0;31m---------------------------------------------------------------------------\u001b[0m",
      "\u001b[0;31mTimeoutException\u001b[0m                          Traceback (most recent call last)",
      "Cell \u001b[0;32mIn[22], line 34\u001b[0m\n\u001b[1;32m     31\u001b[0m driver\u001b[38;5;241m.\u001b[39mget(url)\n\u001b[1;32m     33\u001b[0m \u001b[38;5;66;03m# Wait for elements to load (dynamic loading, adjust timeout if needed)\u001b[39;00m\n\u001b[0;32m---> 34\u001b[0m \u001b[43mWebDriverWait\u001b[49m\u001b[43m(\u001b[49m\u001b[43mdriver\u001b[49m\u001b[43m,\u001b[49m\u001b[43m \u001b[49m\u001b[38;5;241;43m10\u001b[39;49m\u001b[43m)\u001b[49m\u001b[38;5;241;43m.\u001b[39;49m\u001b[43muntil\u001b[49m\u001b[43m(\u001b[49m\n\u001b[1;32m     35\u001b[0m \u001b[43m    \u001b[49m\u001b[43mEC\u001b[49m\u001b[38;5;241;43m.\u001b[39;49m\u001b[43mpresence_of_element_located\u001b[49m\u001b[43m(\u001b[49m\u001b[43m(\u001b[49m\u001b[43mBy\u001b[49m\u001b[38;5;241;43m.\u001b[39;49m\u001b[43mCLASS_NAME\u001b[49m\u001b[43m,\u001b[49m\u001b[43m \u001b[49m\u001b[38;5;124;43m'\u001b[39;49m\u001b[38;5;124;43mjobs-search-results__list\u001b[39;49m\u001b[38;5;124;43m'\u001b[39;49m\u001b[43m)\u001b[49m\u001b[43m)\u001b[49m\n\u001b[1;32m     36\u001b[0m \u001b[43m\u001b[49m\u001b[43m)\u001b[49m\n\u001b[1;32m     38\u001b[0m \u001b[38;5;66;03m# Scroll down to load more results\u001b[39;00m\n\u001b[1;32m     39\u001b[0m last_height \u001b[38;5;241m=\u001b[39m driver\u001b[38;5;241m.\u001b[39mexecute_script(\u001b[38;5;124m\"\u001b[39m\u001b[38;5;124mreturn document.body.scrollHeight\u001b[39m\u001b[38;5;124m\"\u001b[39m)\n",
      "File \u001b[0;32m~/anaconda3/envs/mlms/lib/python3.10/site-packages/selenium/webdriver/support/wait.py:95\u001b[0m, in \u001b[0;36mWebDriverWait.until\u001b[0;34m(self, method, message)\u001b[0m\n\u001b[1;32m     93\u001b[0m     \u001b[38;5;28;01mif\u001b[39;00m time\u001b[38;5;241m.\u001b[39mmonotonic() \u001b[38;5;241m>\u001b[39m end_time:\n\u001b[1;32m     94\u001b[0m         \u001b[38;5;28;01mbreak\u001b[39;00m\n\u001b[0;32m---> 95\u001b[0m \u001b[38;5;28;01mraise\u001b[39;00m TimeoutException(message, screen, stacktrace)\n",
      "\u001b[0;31mTimeoutException\u001b[0m: Message: \nStacktrace:\n0   chromedriver                        0x00000001009ee814 chromedriver + 4040724\n1   chromedriver                        0x00000001009e6a18 chromedriver + 4008472\n2   chromedriver                        0x0000000100659870 chromedriver + 284784\n3   chromedriver                        0x000000010069d080 chromedriver + 561280\n4   chromedriver                        0x00000001006d7048 chromedriver + 798792\n5   chromedriver                        0x000000010069174c chromedriver + 513868\n6   chromedriver                        0x0000000100692044 chromedriver + 516164\n7   chromedriver                        0x00000001009b3a3c chromedriver + 3799612\n8   chromedriver                        0x00000001009b7f1c chromedriver + 3817244\n9   chromedriver                        0x000000010099c298 chromedriver + 3703448\n10  chromedriver                        0x00000001009b8a64 chromedriver + 3820132\n11  chromedriver                        0x000000010098f054 chromedriver + 3649620\n12  chromedriver                        0x00000001009d5e74 chromedriver + 3939956\n13  chromedriver                        0x00000001009d5fec chromedriver + 3940332\n14  chromedriver                        0x00000001009e6698 chromedriver + 4007576\n15  libsystem_pthread.dylib             0x000000018a3be034 _pthread_start + 136\n16  libsystem_pthread.dylib             0x000000018a3b8e3c thread_start + 8\n"
     ]
    }
   ],
   "source": [
    "import pandas as pd\n",
    "from bs4 import BeautifulSoup\n",
    "from selenium import webdriver\n",
    "from selenium.webdriver.chrome.options import Options\n",
    "from selenium.webdriver.common.by import By\n",
    "from selenium.webdriver.common.keys import Keys\n",
    "from selenium.webdriver.support.ui import WebDriverWait\n",
    "from selenium.webdriver.support import expected_conditions as EC\n",
    "\n",
    "# Replace with your credentials\n",
    "email = 'sandeep.3.rockz@gmail.com'\n",
    "password = 'M@llikarjuna98'\n",
    "chromedriver_path = '/usr/local/bin/chromedriver'  # Replace with your path\n",
    "\n",
    "# Set up browser options\n",
    "options = Options()\n",
    "options.add_argument(\"--start-maximized\")\n",
    "\n",
    "query = 'Data Scientist'\n",
    "location = 'India'\n",
    "\n",
    "# Create a Pandas DataFrame to store results\n",
    "data = []\n",
    "\n",
    "# Iterate through pages\n",
    "for page_num in range(1, 4):\n",
    "    url = f'https://www.linkedin.com/jobs/search/?keywords={query}&location={location}&start={25 * (page_num - 1)}'\n",
    "\n",
    "    # Initialize browser and load page\n",
    "    driver = webdriver.Chrome(options=options, executable_path=chromedriver_path)\n",
    "    driver.get(url)\n",
    "\n",
    "    # Wait for elements to load (dynamic loading, adjust timeout if needed)\n",
    "    WebDriverWait(driver, 10).until(\n",
    "        EC.presence_of_element_located((By.CLASS_NAME, 'jobs-search-results__list'))\n",
    "    )\n",
    "\n",
    "    # Scroll down to load more results\n",
    "    last_height = driver.execute_script(\"return document.body.scrollHeight\")\n",
    "    while True:\n",
    "        driver.execute_script(\"window.scrollTo(0, document.body.scrollHeight);\")\n",
    "        time.sleep(1)  # Adjust sleep time as needed\n",
    "        new_height = driver.execute_script(\"return document.body.scrollHeight\")\n",
    "        if new_height == last_height:\n",
    "            break\n",
    "        last_height = new_height\n",
    "\n",
    "    # Parse HTML content with BeautifulSoup\n",
    "    soup = BeautifulSoup(driver.page_source, 'html.parser')\n",
    "\n",
    "    # Extract job postings\n",
    "    job_postings = soup.find_all('li', {'class': 'jobs-search-results__list-item'})\n",
    "\n",
    "    # Extract details from each job posting\n",
    "    for job_posting in job_postings:\n",
    "        try:\n",
    "            # Job title\n",
    "            job_title = job_posting.find('a', class_='job-card-list__title').get_text().strip()\n",
    "\n",
    "            # Company name\n",
    "            company_name = job_posting.find('a', class_='job-card-container__link').get_text().strip()\n",
    "\n",
    "            # Location\n",
    "            location = job_posting.find('li', class_='job-card-container__metadata-item').get_text().strip()\n",
    "\n",
    "            # Job type (Full-time/Part-time)\n",
    "            job_type_container = job_posting.find('li', class_='job-card-container__metadata-item')\n",
    "            if job_type_container:\n",
    "                job_type = job_type_container.get_text().strip().split('\\n')[-1]  # Extract last line\n",
    "            else:\n",
    "                job_type = None\n",
    "\n",
    "            # Skills (multiple elements, extract and join)\n",
    "            skills = []\n",
    "            for skill_element in job_posting.find_all('span', class_='job-card-badge__text'):\n",
    "                skills.append(skill_element.get_text().strip())\n",
    "            skills = ', '.join(skills)\n",
    "\n",
    "            # Add to DataFrame\n",
    "            data.append({\n",
    "                'Job Title': job_title,\n",
    "                'Company Name': company_name,\n",
    "                'Location': location,\n",
    "                'Job Type': job_type,\n",
    "                'Skills': skills\n",
    "            })\n",
    "\n",
    "        except AttributeError:\n",
    "            pass\n",
    "\n",
    "    driver.quit()  # Close browser instance\n",
    "\n",
    "# Create Pandas DataFrame and save to CSV\n",
    "df = pd.DataFrame(data)\n",
    "df.to_csv('linkedin_jobs.csv', index=False)\n",
    "\n",
    "print(\"Data extraction complete!\")"
   ]
  },
  {
   "cell_type": "code",
   "execution_count": null,
   "id": "f2ee84ab-3d2c-46c2-85b9-e94c1dc29722",
   "metadata": {},
   "outputs": [],
   "source": [
    "print"
   ]
  }
 ],
 "metadata": {
  "kernelspec": {
   "display_name": "Python 3 (ipykernel)",
   "language": "python",
   "name": "python3"
  },
  "language_info": {
   "codemirror_mode": {
    "name": "ipython",
    "version": 3
   },
   "file_extension": ".py",
   "mimetype": "text/x-python",
   "name": "python",
   "nbconvert_exporter": "python",
   "pygments_lexer": "ipython3",
   "version": "3.10.13"
  }
 },
 "nbformat": 4,
 "nbformat_minor": 5
}
