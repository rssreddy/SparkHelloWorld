{
 "cells": [
  {
   "cell_type": "code",
   "execution_count": null,
   "id": "6dcd8ea0-6e6f-46ac-89ed-c90a7fcc51f3",
   "metadata": {},
   "outputs": [],
   "source": []
  },
  {
   "cell_type": "code",
   "execution_count": 8,
   "id": "e5ab63a4-9233-4a58-8d16-5a8ba06a6150",
   "metadata": {},
   "outputs": [
    {
     "name": "stderr",
     "output_type": "stream",
     "text": [
      "/var/folders/8k/httyvyqd5rs7pjslb_dwjqc00000gn/T/ipykernel_1591/1449563051.py:6: DeprecationWarning: executable_path has been deprecated, please pass in a Service object\n",
      "  driver = webdriver.Chrome('/usr/local/bin/chromedriver')\n"
     ]
    }
   ],
   "source": [
    "from selenium import webdriver\n",
    "from selenium.webdriver.common.by import By\n",
    "from bs4 import BeautifulSoup\n",
    "import time\n",
    " \n",
    "driver = webdriver.Chrome('/usr/local/bin/chromedriver')\n",
    "\n",
    "# Navigate to the LinkedIn login page\n",
    "driver.get('https://www.linkedin.com/login')\n",
    "\n",
    "\n",
    "# waiting for the page to load\n",
    "time.sleep(5)\n",
    " \n",
    "# entering username\n",
    "username = driver.find_element(By.ID, \"username\")\n",
    " \n",
    "# In case of an error, try changing the element\n",
    "# tag used here.\n",
    " \n",
    "# Enter Your Email Address\n",
    "username.send_keys(\"sandeep.3.rockz@gmail.com\")  \n",
    " \n",
    "# entering password\n",
    "pword = driver.find_element(By.ID, \"password\")\n",
    "# In case of an error, try changing the element \n",
    "# tag used here.\n",
    " \n",
    "# Enter Your Password\n",
    "pword.send_keys(\"M@llikarjuna98\")        \n",
    " \n",
    "# Clicking on the log in button\n",
    "# Format (syntax) of writing XPath --> \n",
    "# //tagname[@attribute='value']\n",
    "driver.find_element(By.XPATH, \"//button[@type='submit']\").click()\n",
    "# In case of an error, try changing the\n",
    "# XPath used here."
   ]
  },
  {
   "cell_type": "code",
   "execution_count": null,
   "id": "47a106e4-ce9d-49b6-8aeb-8b61025d7451",
   "metadata": {},
   "outputs": [],
   "source": []
  }
 ],
 "metadata": {
  "kernelspec": {
   "display_name": "Python 3 (ipykernel)",
   "language": "python",
   "name": "python3"
  },
  "language_info": {
   "codemirror_mode": {
    "name": "ipython",
    "version": 3
   },
   "file_extension": ".py",
   "mimetype": "text/x-python",
   "name": "python",
   "nbconvert_exporter": "python",
   "pygments_lexer": "ipython3",
   "version": "3.10.13"
  }
 },
 "nbformat": 4,
 "nbformat_minor": 5
}
